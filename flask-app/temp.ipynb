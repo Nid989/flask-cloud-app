{
 "cells": [
  {
   "cell_type": "code",
   "execution_count": 6,
   "metadata": {},
   "outputs": [],
   "source": [
    "import requests as req"
   ]
  },
  {
   "cell_type": "code",
   "execution_count": 3,
   "metadata": {},
   "outputs": [],
   "source": [
    "req = requests.get(\"http://13.233.19.226:8080/get-service-area\")"
   ]
  },
  {
   "cell_type": "code",
   "execution_count": 7,
   "metadata": {},
   "outputs": [],
   "source": [
    "service_req = req.get(\"http://13.233.19.226:8080/get-service-area\")\n",
    "city_list = service_req.json()['cities_arr']\n",
    "city_string = '\\n'.join(city_list)"
   ]
  },
  {
   "cell_type": "code",
   "execution_count": 8,
   "metadata": {},
   "outputs": [
    {
     "data": {
      "text/plain": [
       "'Andaman 4 Nights / 5 Days\\nSrinagar 4 Nights / 5 Days\\nKerala 4 Nights / 5 Days\\nManali 2 Nights / 3 Days\\nMauritius 4 Nights / 5 Days\\nGantok 2 Nights / 3 Days'"
      ]
     },
     "execution_count": 8,
     "metadata": {},
     "output_type": "execute_result"
    }
   ],
   "source": [
    "city_string"
   ]
  },
  {
   "cell_type": "code",
   "execution_count": 9,
   "metadata": {},
   "outputs": [
    {
     "name": "stdout",
     "output_type": "stream",
     "text": [
      "Andaman 4 Nights / 5 Days\n",
      "Srinagar 4 Nights / 5 Days\n",
      "Kerala 4 Nights / 5 Days\n",
      "Manali 2 Nights / 3 Days\n",
      "Mauritius 4 Nights / 5 Days\n",
      "Gantok 2 Nights / 3 Days\n"
     ]
    }
   ],
   "source": [
    "print(city_string)"
   ]
  },
  {
   "cell_type": "code",
   "execution_count": 18,
   "metadata": {},
   "outputs": [],
   "source": [
    "price_req = req.get(\"http://13.233.19.226:8081/get-prices\")\n",
    "city_list = price_req.json()['price_arr']\n",
    "city_string = '\\n'.join(city_list)"
   ]
  },
  {
   "cell_type": "code",
   "execution_count": 19,
   "metadata": {},
   "outputs": [
    {
     "name": "stdout",
     "output_type": "stream",
     "text": [
      "5999\n",
      "8999\n",
      "2999\n",
      "19999\n",
      "7999\n",
      "3499\n"
     ]
    }
   ],
   "source": [
    "print(city_string)"
   ]
  },
  {
   "cell_type": "code",
   "execution_count": null,
   "metadata": {},
   "outputs": [],
   "source": [
    "city_list"
   ]
  },
  {
   "cell_type": "code",
   "execution_count": null,
   "metadata": {},
   "outputs": [],
   "source": []
  }
 ],
 "metadata": {
  "interpreter": {
   "hash": "09543090bb2f5022a26356885747bcce2ef7e70663c49a3c58d27b8c09d9d6fc"
  },
  "kernelspec": {
   "display_name": "Python 3.8.5 64-bit ('base': conda)",
   "name": "python3"
  },
  "language_info": {
   "codemirror_mode": {
    "name": "ipython",
    "version": 3
   },
   "file_extension": ".py",
   "mimetype": "text/x-python",
   "name": "python",
   "nbconvert_exporter": "python",
   "pygments_lexer": "ipython3",
   "version": "3.8.5"
  },
  "orig_nbformat": 4
 },
 "nbformat": 4,
 "nbformat_minor": 2
}
